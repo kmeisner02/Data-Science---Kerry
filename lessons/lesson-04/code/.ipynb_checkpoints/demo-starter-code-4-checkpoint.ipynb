{
 "cells": [
  {
   "cell_type": "markdown",
   "metadata": {},
   "source": [
    "# Part 1. Hypothesis Testing\n",
    "\n",
    "## Libraries\n",
    "\n",
    "For today's demo, we'll be using [Statsmodels](http://statsmodels.sourceforge.net/) for **teaching purposes**, since it has some nice characteristics for linear modeling. \n",
    "\n",
    "We will be demostrating *hypothesis testing* as it relates to linear modeling. We'll dive into how to do linear regression models in later classes. "
   ]
  },
  {
   "cell_type": "code",
<<<<<<< HEAD
   "execution_count": 1,
=======
   "execution_count": 4,
>>>>>>> master
   "metadata": {
    "collapsed": false
   },
   "outputs": [],
   "source": [
    "# imports\n",
    "import pandas as pd\n",
    "import matplotlib.pyplot as plt\n",
    "\n",
    "# this allows plots to appear directly in the notebook\n",
    "%matplotlib inline"
   ]
  },
  {
   "cell_type": "markdown",
   "metadata": {},
   "source": [
    "## Example: Advertising Data\n",
    "\n",
    "Let's take a look at some data, ask some questions about that data, and then use linear regression to answer those questions!"
   ]
  },
  {
   "cell_type": "code",
<<<<<<< HEAD
   "execution_count": 2,
=======
   "execution_count": 5,
>>>>>>> master
   "metadata": {
    "collapsed": false
   },
   "outputs": [
    {
     "data": {
      "text/html": [
       "<div>\n",
       "<table border=\"1\" class=\"dataframe\">\n",
       "  <thead>\n",
       "    <tr style=\"text-align: right;\">\n",
       "      <th></th>\n",
       "      <th>TV</th>\n",
       "      <th>Radio</th>\n",
       "      <th>Newspaper</th>\n",
       "      <th>Sales</th>\n",
       "    </tr>\n",
       "  </thead>\n",
       "  <tbody>\n",
       "    <tr>\n",
       "      <th>1</th>\n",
       "      <td>230.1</td>\n",
       "      <td>37.8</td>\n",
       "      <td>69.2</td>\n",
       "      <td>22.1</td>\n",
       "    </tr>\n",
       "    <tr>\n",
       "      <th>2</th>\n",
       "      <td>44.5</td>\n",
       "      <td>39.3</td>\n",
       "      <td>45.1</td>\n",
       "      <td>10.4</td>\n",
       "    </tr>\n",
       "    <tr>\n",
       "      <th>3</th>\n",
       "      <td>17.2</td>\n",
       "      <td>45.9</td>\n",
       "      <td>69.3</td>\n",
       "      <td>9.3</td>\n",
       "    </tr>\n",
       "    <tr>\n",
       "      <th>4</th>\n",
       "      <td>151.5</td>\n",
       "      <td>41.3</td>\n",
       "      <td>58.5</td>\n",
       "      <td>18.5</td>\n",
       "    </tr>\n",
       "    <tr>\n",
       "      <th>5</th>\n",
       "      <td>180.8</td>\n",
       "      <td>10.8</td>\n",
       "      <td>58.4</td>\n",
       "      <td>12.9</td>\n",
       "    </tr>\n",
       "  </tbody>\n",
       "</table>\n",
       "</div>"
      ],
      "text/plain": [
       "      TV  Radio  Newspaper  Sales\n",
       "1  230.1   37.8       69.2   22.1\n",
       "2   44.5   39.3       45.1   10.4\n",
       "3   17.2   45.9       69.3    9.3\n",
       "4  151.5   41.3       58.5   18.5\n",
       "5  180.8   10.8       58.4   12.9"
      ]
     },
<<<<<<< HEAD
     "execution_count": 2,
=======
     "execution_count": 5,
>>>>>>> master
     "metadata": {},
     "output_type": "execute_result"
    }
   ],
   "source": [
    "# read data into a DataFrame\n",
    "data = pd.read_csv('http://www-bcf.usc.edu/~gareth/ISL/Advertising.csv', index_col=0)\n",
    "data.head()"
   ]
  },
  {
   "cell_type": "markdown",
   "metadata": {},
   "source": [
    "### Student Question- What are the **features**?"
   ]
  },
  {
   "cell_type": "markdown",
   "metadata": {},
   "source": [
<<<<<<< HEAD
    "Answer: Different platforms being advertised on.\n"
=======
    "Answer:\n"
>>>>>>> master
   ]
  },
  {
   "cell_type": "markdown",
   "metadata": {},
   "source": [
    "### Student Question- What is the **response**?"
   ]
  },
  {
   "cell_type": "markdown",
   "metadata": {},
   "source": [
<<<<<<< HEAD
    "Answer: Sale"
=======
    "Answer:"
>>>>>>> master
   ]
  },
  {
   "cell_type": "code",
<<<<<<< HEAD
   "execution_count": 3,
=======
   "execution_count": 6,
>>>>>>> master
   "metadata": {
    "collapsed": false,
    "scrolled": true
   },
   "outputs": [
    {
     "data": {
      "text/plain": [
       "(200, 4)"
      ]
     },
<<<<<<< HEAD
     "execution_count": 3,
=======
     "execution_count": 6,
>>>>>>> master
     "metadata": {},
     "output_type": "execute_result"
    }
   ],
   "source": [
    "# print the shape of the DataFrame\n",
<<<<<<< HEAD
    "data.shape\n"
=======
    "data.shape"
>>>>>>> master
   ]
  },
  {
   "cell_type": "markdown",
   "metadata": {},
   "source": [
    "There are 200 **observations**, and thus 200 markets in the dataset."
   ]
  },
  {
   "cell_type": "code",
<<<<<<< HEAD
   "execution_count": 6,
=======
   "execution_count": 7,
>>>>>>> master
   "metadata": {
    "collapsed": false
   },
   "outputs": [
    {
     "data": {
      "text/plain": [
<<<<<<< HEAD
       "<matplotlib.axes._subplots.AxesSubplot at 0x107bf67d0>"
      ]
     },
     "execution_count": 6,
=======
       "<matplotlib.axes._subplots.AxesSubplot at 0x1110dc950>"
      ]
     },
     "execution_count": 7,
>>>>>>> master
     "metadata": {},
     "output_type": "execute_result"
    },
    {
<<<<<<< HEAD
     "name": "stderr",
     "output_type": "stream",
     "text": [
      "//anaconda/lib/python2.7/site-packages/matplotlib/collections.py:590: FutureWarning: elementwise comparison failed; returning scalar instead, but in the future will perform elementwise comparison\n",
      "  if self._edgecolors == str('face'):\n"
     ]
    },
    {
     "data": {
      "image/png": "iVBORw0KGgoAAAANSUhEUgAAA7IAAAHuCAYAAACiUzBRAAAABHNCSVQICAgIfAhkiAAAAAlwSFlz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\n/wGjAmVAESbgfQAAAABJRU5ErkJggg==\n",
      "text/plain": [
       "<matplotlib.figure.Figure at 0x1048c8310>"
=======
     "data": {
      "image/png": "iVBORw0KGgoAAAANSUhEUgAAA7AAAAHjCAYAAAAaOPOyAAAABHNCSVQICAgIfAhkiAAAAAlwSFlz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\nSUVORK5CYII=\n",
      "text/plain": [
       "<matplotlib.figure.Figure at 0x10cd220d0>"
>>>>>>> master
      ]
     },
     "metadata": {},
     "output_type": "display_data"
    }
   ],
   "source": [
    "# visualize the relationship between the features and the response using scatterplots\n",
    "fig, axs = plt.subplots(1, 3, sharey=True)\n",
    "data.plot(kind='scatter', x='TV', y='Sales', ax=axs[0], figsize=(16, 8))\n",
    "data.plot(kind='scatter', x='Radio', y='Sales', ax=axs[1])\n",
    "data.plot(kind='scatter', x='Newspaper', y='Sales', ax=axs[2])"
   ]
  },
  {
   "cell_type": "markdown",
   "metadata": {},
   "source": [
    "## Questions About the Advertising Data\n",
    "\n",
    "Let's pretend you work for the company that manufactures and markets this new device. The company might ask you the following: On the basis of this data, how should we spend our advertising money in the future?\n",
    "1. Is there a relationship between ads and sales?"
   ]
  },
  {
   "cell_type": "markdown",
   "metadata": {},
   "source": [
    "### Student Question- Is this a causal relationship? "
   ]
  },
  {
   "cell_type": "markdown",
   "metadata": {},
   "source": [
    "Answer: "
   ]
  },
  {
   "cell_type": "markdown",
   "metadata": {},
   "source": [
    "### Student Question: What other questions might we want to know about this data?"
   ]
  },
  {
   "cell_type": "markdown",
   "metadata": {},
   "source": [
    "Answer:\n"
   ]
  },
  {
   "cell_type": "markdown",
   "metadata": {},
   "source": [
    "Let's use **Statsmodels** to estimate the associatione between advertising efforts and sales. "
   ]
  },
  {
   "cell_type": "code",
<<<<<<< HEAD
   "execution_count": 7,
=======
   "execution_count": 8,
>>>>>>> master
   "metadata": {
    "collapsed": false
   },
   "outputs": [
    {
     "data": {
      "text/html": [
       "<table class=\"simpletable\">\n",
       "<caption>OLS Regression Results</caption>\n",
       "<tr>\n",
       "  <th>Dep. Variable:</th>          <td>Sales</td>      <th>  R-squared:         </th> <td>   0.612</td>\n",
       "</tr>\n",
       "<tr>\n",
       "  <th>Model:</th>                   <td>OLS</td>       <th>  Adj. R-squared:    </th> <td>   0.610</td>\n",
       "</tr>\n",
       "<tr>\n",
       "  <th>Method:</th>             <td>Least Squares</td>  <th>  F-statistic:       </th> <td>   312.1</td>\n",
       "</tr>\n",
       "<tr>\n",
<<<<<<< HEAD
       "  <th>Date:</th>             <td>Sun, 08 May 2016</td> <th>  Prob (F-statistic):</th> <td>1.47e-42</td>\n",
       "</tr>\n",
       "<tr>\n",
       "  <th>Time:</th>                 <td>16:16:21</td>     <th>  Log-Likelihood:    </th> <td> -519.05</td>\n",
=======
       "  <th>Date:</th>             <td>Sun, 14 May 2017</td> <th>  Prob (F-statistic):</th> <td>1.47e-42</td>\n",
       "</tr>\n",
       "<tr>\n",
       "  <th>Time:</th>                 <td>16:33:43</td>     <th>  Log-Likelihood:    </th> <td> -519.05</td>\n",
>>>>>>> master
       "</tr>\n",
       "<tr>\n",
       "  <th>No. Observations:</th>      <td>   200</td>      <th>  AIC:               </th> <td>   1042.</td>\n",
       "</tr>\n",
       "<tr>\n",
       "  <th>Df Residuals:</th>          <td>   198</td>      <th>  BIC:               </th> <td>   1049.</td>\n",
       "</tr>\n",
       "<tr>\n",
       "  <th>Df Model:</th>              <td>     1</td>      <th>                     </th>     <td> </td>   \n",
       "</tr>\n",
       "<tr>\n",
       "  <th>Covariance Type:</th>      <td>nonrobust</td>    <th>                     </th>     <td> </td>   \n",
       "</tr>\n",
       "</table>\n",
       "<table class=\"simpletable\">\n",
       "<tr>\n",
       "      <td></td>         <th>coef</th>     <th>std err</th>      <th>t</th>      <th>P>|t|</th> <th>[95.0% Conf. Int.]</th> \n",
       "</tr>\n",
       "<tr>\n",
       "  <th>Intercept</th> <td>    7.0326</td> <td>    0.458</td> <td>   15.360</td> <td> 0.000</td> <td>    6.130     7.935</td>\n",
       "</tr>\n",
       "<tr>\n",
       "  <th>TV</th>        <td>    0.0475</td> <td>    0.003</td> <td>   17.668</td> <td> 0.000</td> <td>    0.042     0.053</td>\n",
       "</tr>\n",
       "</table>\n",
       "<table class=\"simpletable\">\n",
       "<tr>\n",
       "  <th>Omnibus:</th>       <td> 0.531</td> <th>  Durbin-Watson:     </th> <td>   1.935</td>\n",
       "</tr>\n",
       "<tr>\n",
       "  <th>Prob(Omnibus):</th> <td> 0.767</td> <th>  Jarque-Bera (JB):  </th> <td>   0.669</td>\n",
       "</tr>\n",
       "<tr>\n",
       "  <th>Skew:</th>          <td>-0.089</td> <th>  Prob(JB):          </th> <td>   0.716</td>\n",
       "</tr>\n",
       "<tr>\n",
       "  <th>Kurtosis:</th>      <td> 2.779</td> <th>  Cond. No.          </th> <td>    338.</td>\n",
       "</tr>\n",
       "</table>"
      ],
      "text/plain": [
       "<class 'statsmodels.iolib.summary.Summary'>\n",
       "\"\"\"\n",
       "                            OLS Regression Results                            \n",
       "==============================================================================\n",
       "Dep. Variable:                  Sales   R-squared:                       0.612\n",
       "Model:                            OLS   Adj. R-squared:                  0.610\n",
       "Method:                 Least Squares   F-statistic:                     312.1\n",
<<<<<<< HEAD
       "Date:                Sun, 08 May 2016   Prob (F-statistic):           1.47e-42\n",
       "Time:                        16:16:21   Log-Likelihood:                -519.05\n",
=======
       "Date:                Sun, 14 May 2017   Prob (F-statistic):           1.47e-42\n",
       "Time:                        16:33:43   Log-Likelihood:                -519.05\n",
>>>>>>> master
       "No. Observations:                 200   AIC:                             1042.\n",
       "Df Residuals:                     198   BIC:                             1049.\n",
       "Df Model:                           1                                         \n",
       "Covariance Type:            nonrobust                                         \n",
       "==============================================================================\n",
       "                 coef    std err          t      P>|t|      [95.0% Conf. Int.]\n",
       "------------------------------------------------------------------------------\n",
       "Intercept      7.0326      0.458     15.360      0.000         6.130     7.935\n",
       "TV             0.0475      0.003     17.668      0.000         0.042     0.053\n",
       "==============================================================================\n",
       "Omnibus:                        0.531   Durbin-Watson:                   1.935\n",
       "Prob(Omnibus):                  0.767   Jarque-Bera (JB):                0.669\n",
       "Skew:                          -0.089   Prob(JB):                        0.716\n",
       "Kurtosis:                       2.779   Cond. No.                         338.\n",
       "==============================================================================\n",
       "\n",
       "Warnings:\n",
       "[1] Standard Errors assume that the covariance matrix of the errors is correctly specified.\n",
       "\"\"\""
      ]
     },
<<<<<<< HEAD
     "execution_count": 7,
=======
     "execution_count": 8,
>>>>>>> master
     "metadata": {},
     "output_type": "execute_result"
    }
   ],
   "source": [
    "# this is the standard import if you're using \"formula notation\" (similar to R)\n",
    "import statsmodels.formula.api as smf\n",
    "\n",
    "# create a fitted model in one line\n",
    "#formula notification is the equivalent to writing out our models such that 'outcome = predictor'\n",
    "#with the follwing syntax formula = 'outcome ~ predictor1 + predictor2 ... predictorN'\n",
    "lm = smf.ols(formula='Sales ~ TV', data=data).fit()\n",
    "\n",
    "#print the full summary\n",
<<<<<<< HEAD
    "lm.summary()\n"
=======
    "lm.summary()"
>>>>>>> master
   ]
  },
  {
   "cell_type": "code",
   "execution_count": 8,
   "metadata": {
    "collapsed": false
   },
   "outputs": [
    {
     "data": {
      "text/plain": [
       "Intercept    7.032594\n",
       "TV           0.047537\n",
       "dtype: float64"
      ]
     },
     "execution_count": 8,
     "metadata": {},
     "output_type": "execute_result"
    }
   ],
   "source": [
    "# print the coefficients\n",
    "lm.params"
   ]
  },
  {
   "cell_type": "markdown",
   "metadata": {},
   "source": [
    "## Interpreting Model Coefficients\n",
    "\n",
    "How do we interpret the TV coefficient ($\\beta_1$)?\n",
    "- A \"unit\" increase in TV ad spending is **associated with** a 0.047537 \"unit\" increase in Sales.\n",
    "- Or more clearly: An additional $1,000 spent on TV ads is **associated with** an increase in sales of 47.537 widgets.\n",
    "\n",
    "Note that if an increase in TV ad spending was associated with a **decrease** in sales, $\\beta_1$ would be **negative**."
   ]
  },
  {
   "cell_type": "markdown",
   "metadata": {},
   "source": [
    "## Using the Model for Prediction\n",
    "\n",
    "Let's say that there was a new market where the TV advertising spend was **$50,000**. What would we predict for the Sales in that market?\n",
    "\n",
    "$$y = \\beta_0 + \\beta_1x$$\n",
    "$$y = 7.032594 + 0.047537 \\times 50000$$"
   ]
  },
  {
   "cell_type": "code",
   "execution_count": 9,
   "metadata": {
    "collapsed": false
   },
   "outputs": [
    {
     "data": {
      "text/plain": [
       "2383.882594"
      ]
     },
     "execution_count": 9,
     "metadata": {},
     "output_type": "execute_result"
    }
   ],
   "source": [
    "# manually calculate the prediction\n",
    "7.032594 + 0.047537*50000"
   ]
  },
  {
   "cell_type": "markdown",
   "metadata": {},
   "source": [
    "Thus, we would predict Sales of **2,383 widgets** in that market.\n",
    "\n",
    "Of course, we can also use Statsmodels to make the prediction:"
   ]
  },
  {
   "cell_type": "code",
   "execution_count": 10,
   "metadata": {
    "collapsed": false
   },
   "outputs": [
    {
     "data": {
      "text/html": [
       "<div>\n",
       "<table border=\"1\" class=\"dataframe\">\n",
       "  <thead>\n",
       "    <tr style=\"text-align: right;\">\n",
       "      <th></th>\n",
       "      <th>TV</th>\n",
       "    </tr>\n",
       "  </thead>\n",
       "  <tbody>\n",
       "    <tr>\n",
       "      <th>0</th>\n",
       "      <td>50000</td>\n",
       "    </tr>\n",
       "  </tbody>\n",
       "</table>\n",
       "</div>"
      ],
      "text/plain": [
       "      TV\n",
       "0  50000"
      ]
     },
     "execution_count": 10,
     "metadata": {},
     "output_type": "execute_result"
    }
   ],
   "source": [
    "# you have to create a DataFrame since the Statsmodels formula interface expects it\n",
    "X_new = pd.DataFrame({'TV': [50000]})\n",
    "X_new.head()"
   ]
  },
  {
   "cell_type": "code",
   "execution_count": 11,
   "metadata": {
    "collapsed": false
   },
   "outputs": [
    {
     "data": {
      "text/plain": [
       "array([ 2383.8646152])"
      ]
     },
     "execution_count": 11,
     "metadata": {},
     "output_type": "execute_result"
    }
   ],
   "source": [
    "# use the model to make predictions on a new value\n",
    "lm.predict(X_new)"
   ]
  },
  {
   "cell_type": "markdown",
   "metadata": {},
   "source": [
    "# Part 2. Confidence in our Model\n",
    "\n",
    "**Question:** Is linear regression a high bias/low variance model, or a low bias/high variance model?\n",
    "\n",
    "**Answer:** \n",
    "\n",
    "---\n",
    "\n",
    "A closely related concept is **confidence intervals**. Statsmodels calculates 95% confidence intervals for our model coefficients, which are interpreted as follows: If the population from which this sample was drawn was **sampled 100 times**, approximately **95 of those confidence intervals** would contain the \"true\" coefficient."
   ]
  },
  {
   "cell_type": "code",
   "execution_count": null,
   "metadata": {
    "collapsed": false
   },
   "outputs": [],
   "source": [
    "# print the confidence intervals for the model coefficients\n",
    "lm.conf_int()"
   ]
  },
  {
   "cell_type": "markdown",
   "metadata": {},
   "source": [
    "Keep in mind that we only have a **single sample of data**, and not the **entire population of data**. The \"true\" coefficient is either within this interval or it isn't, but there's no way to actually know. We estimate the coefficient with the data we do have, and we show uncertainty about that estimate by giving a range that the coefficient is **probably** within.\n",
    "\n",
    "Note that using 95% confidence intervals is just a convention. You can create 90% confidence intervals (which will be more narrow), 99% confidence intervals (which will be wider), or whatever intervals you like."
   ]
  },
  {
   "cell_type": "markdown",
   "metadata": {},
   "source": [
    "## Hypothesis Testing and p-values\n",
    "\n",
    "Closely related to confidence intervals is **hypothesis testing**. Generally speaking, you start with a **null hypothesis** and an **alternative hypothesis** - a hypothesis that is the opposite of the null. Then, you check whether the data supports **rejecting the null hypothesis** or **failing to reject the null hypothesis**.\n",
    "\n",
    "Note that \"failing to reject\" the null is ***not*** the same as \"accepting\" the null hypothesis. Your alternative hypothesis may indeed be true, but you don't necessarily have enough data to show that yet. \n",
    "\n",
    "As it relates to model coefficients, here is the conventional hypothesis test:\n",
    "\n",
    "- **null hypothesis:** There is no relationship between TV ads and Sales (and thus $\\beta_1$ equals zero)\n",
    "- **alternative hypothesis:** There is a relationship between TV ads and Sales (and thus $\\beta_1$ is not equal to zero)\n",
    "\n",
    "How do we test this hypothesis? We reject the null (and thus believe the alternative) if the 95% confidence interval **does not include zero**. \n",
    "\n",
    "Conversely, the **p-value** represents the probability that the coefficient is actually zero:"
   ]
  },
  {
   "cell_type": "code",
   "execution_count": null,
   "metadata": {
    "collapsed": false
   },
   "outputs": [],
   "source": [
    "# print the p-values for the model coefficients\n",
    "lm.pvalues"
   ]
  },
  {
   "cell_type": "markdown",
   "metadata": {},
   "source": [
    "If the 95% confidence interval **includes zero**, the p-value for that coefficient will be **greater than 0.05**. \n",
    "\n",
    "If the 95% confidence interval **does not include zero**, the p-value will be **less than 0.05**. Thus, a p-value less than 0.05 is one way to decide whether there is likely a relationship between the feature and the response. Using 0.05 as the cutoff is a standard convention.\n",
    "\n",
    "In this case, the p-value for TV is far less than 0.05, and so we **believe** that there is a relationship between TV ads and Sales.\n",
    "\n",
    "Note that we generally ignore the p-value for the intercept."
   ]
  },
  {
   "cell_type": "markdown",
   "metadata": {},
   "source": [
    "What are a few key things we learn from this output?\n",
    "\n",
    "- TV and Radio have significant **p-values**, whereas Newspaper does not. Thus we reject the null hypothesis for TV and Radio (that there is no association between those features and Sales), and fail to reject the null hypothesis for Newspaper.\n",
    "\n",
    "- TV and Radio ad spending are both **positively associated** with Sales, whereas Newspaper ad spending is **slightly negatively associated** with Sales. However, this is irrelevant since we have failed to reject the null hypothesis for Newspaper."
   ]
  }
 ],
 "metadata": {
  "kernelspec": {
   "display_name": "Python 2",
   "language": "python",
   "name": "python2"
  },
  "language_info": {
   "codemirror_mode": {
    "name": "ipython",
    "version": 2
   },
   "file_extension": ".py",
   "mimetype": "text/x-python",
   "name": "python",
   "nbconvert_exporter": "python",
   "pygments_lexer": "ipython2",
   "version": "2.7.13"
  }
 },
 "nbformat": 4,
 "nbformat_minor": 0
}
